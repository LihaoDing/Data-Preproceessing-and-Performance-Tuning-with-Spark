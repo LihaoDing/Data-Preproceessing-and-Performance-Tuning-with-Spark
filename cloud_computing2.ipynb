{
  "cells": [
    {
      "cell_type": "markdown",
      "metadata": {
        "id": "tEoxACVgvcBO"
      },
      "source": [
        "# **Data Preproceessing and Performance Tuning with Spark**"
      ]
    },
    {
      "cell_type": "markdown",
      "metadata": {
        "id": "wyvLA7vSrEuo"
      },
      "source": [
        "## Installing pyspark\n",
        "\n",
        "The following cell install the latest pyspark package"
      ]
    },
    {
      "cell_type": "code",
      "execution_count": null,
      "metadata": {
        "colab": {
          "base_uri": "https://localhost:8080/"
        },
        "id": "5aPPITHmYevz",
        "outputId": "8d48051c-187a-4bdb-996b-a2ee7c1f26bf"
      },
      "outputs": [
        {
          "output_type": "stream",
          "name": "stdout",
          "text": [
            "Looking in indexes: https://pypi.org/simple, https://us-python.pkg.dev/colab-wheels/public/simple/\n",
            "Collecting pyspark\n",
            "  Downloading pyspark-3.2.1.tar.gz (281.4 MB)\n",
            "\u001b[K     |████████████████████████████████| 281.4 MB 33 kB/s \n",
            "\u001b[?25hCollecting py4j==0.10.9.3\n",
            "  Downloading py4j-0.10.9.3-py2.py3-none-any.whl (198 kB)\n",
            "\u001b[K     |████████████████████████████████| 198 kB 42.3 MB/s \n",
            "\u001b[?25hBuilding wheels for collected packages: pyspark\n",
            "  Building wheel for pyspark (setup.py) ... \u001b[?25l\u001b[?25hdone\n",
            "  Created wheel for pyspark: filename=pyspark-3.2.1-py2.py3-none-any.whl size=281853642 sha256=782ee08ecbf04f78a000229ac3631496bf64ed7b22b4bc3f5acc009e19379abd\n",
            "  Stored in directory: /root/.cache/pip/wheels/9f/f5/07/7cd8017084dce4e93e84e92efd1e1d5334db05f2e83bcef74f\n",
            "Successfully built pyspark\n",
            "Installing collected packages: py4j, pyspark\n",
            "Successfully installed py4j-0.10.9.3 pyspark-3.2.1\n"
          ]
        }
      ],
      "source": [
        "!pip install pyspark"
      ]
    },
    {
      "cell_type": "markdown",
      "metadata": {
        "id": "VAcHZpUqrJif"
      },
      "source": [
        "## Mounting Google Drive\n",
        "\n",
        "The following cell mounts your google drive in the virtual machine runing the notebook. You will be asked to authenticate your account to access Google drive. Once authenticated, your google drive is mounted at `/content/drive`. Anything in your google drive can be accessed from `/content/drive/MyDrive`."
      ]
    },
    {
      "cell_type": "code",
      "execution_count": null,
      "metadata": {
        "colab": {
          "base_uri": "https://localhost:8080/"
        },
        "id": "NFqA9KucYh-U",
        "outputId": "b7d1094b-6b67-44a8-d6fe-322825cd01fe"
      },
      "outputs": [
        {
          "output_type": "stream",
          "name": "stdout",
          "text": [
            "Mounted at /content/drive\n"
          ]
        }
      ],
      "source": [
        "from google.colab import drive\n",
        "drive.mount('/content/drive', force_remount=True)"
      ]
    },
    {
      "cell_type": "markdown",
      "metadata": {
        "id": "mIxKGCFxbYJ1"
      },
      "source": [
        "## Initializing spark and import all library\n"
      ]
    },
    {
      "cell_type": "code",
      "execution_count": null,
      "metadata": {
        "id": "J-AwZcr5bSAd"
      },
      "outputs": [],
      "source": [
        "from pyspark.sql import SparkSession\n",
        "from pyspark.sql.functions import col, explode\n",
        "from pyspark.sql.functions import broadcast\n",
        "from pyspark.sql.functions import udf\n",
        "from pyspark.sql.functions import explode_outer\n",
        "from pyspark.sql.functions import round\n",
        "from pyspark.sql.functions import row_number\n",
        "from pyspark.sql.window import Window\n",
        "from pyspark.sql.types import StructType, StructField, StringType,IntegerType, FloatType, ArrayType\n",
        "spark = SparkSession \\\n",
        "    .builder \\\n",
        "    .appName(\"Cloud Computing2\") \\\n",
        "    .getOrCreate()\n",
        "\n",
        "\n",
        "# reference: https://colab.research.google.com/drive/1cdTy7-sLgO8FFliMMlUGn6LiVmVZOTT-?usp=sharing"
      ]
    },
    {
      "cell_type": "markdown",
      "metadata": {
        "id": "kbja9TAGb6N5"
      },
      "source": [
        "## READ DATA\n",
        "Read from json file(test.json) to dataframe."
      ]
    },
    {
      "cell_type": "code",
      "source": [
        "# Read data and explode \"data\"\n",
        "test_data_df = spark.read.json(\"file:///content/drive/MyDrive/as2_data/test.json\")\n",
        "test_data_df = test_data_df.select(explode(\"data\").alias(\"data\"))\n",
        "test_data_df.count()"
      ],
      "metadata": {
        "id": "-LE55RK_bwFm",
        "colab": {
          "base_uri": "https://localhost:8080/"
        },
        "outputId": "c2c63139-4f06-405d-c526-05aad2772e5d"
      },
      "execution_count": null,
      "outputs": [
        {
          "output_type": "execute_result",
          "data": {
            "text/plain": [
              "102"
            ]
          },
          "metadata": {},
          "execution_count": 5
        }
      ]
    },
    {
      "cell_type": "code",
      "source": [
        "# Explode \"paragraph\" & \"qas\", keep necessary column\n",
        "test_data_df = test_data_df.select(explode(\"data.paragraphs\").alias(\"paragraphs\"), col(\"data.title\"))\n",
        "test_data_df = test_data_df.select(explode(\"paragraphs.qas\").alias(\"qas\"), col(\"paragraphs.context\").alias(\"context\"), col(\"title\"))\n",
        "test_data_df.printSchema()"
      ],
      "metadata": {
        "colab": {
          "base_uri": "https://localhost:8080/"
        },
        "id": "eBFBcwIY982b",
        "outputId": "bc4213d2-72cb-4136-b9ec-a773da5950a2"
      },
      "execution_count": null,
      "outputs": [
        {
          "output_type": "stream",
          "name": "stdout",
          "text": [
            "root\n",
            " |-- qas: struct (nullable = true)\n",
            " |    |-- answers: array (nullable = true)\n",
            " |    |    |-- element: struct (containsNull = true)\n",
            " |    |    |    |-- answer_start: long (nullable = true)\n",
            " |    |    |    |-- text: string (nullable = true)\n",
            " |    |-- id: string (nullable = true)\n",
            " |    |-- is_impossible: boolean (nullable = true)\n",
            " |    |-- question: string (nullable = true)\n",
            " |-- context: string (nullable = true)\n",
            " |-- title: string (nullable = true)\n",
            "\n"
          ]
        }
      ]
    },
    {
      "cell_type": "code",
      "source": [
        "# This function is used to cut of context into sequence\n",
        "# Each sequence in a contract is saved by an array of the following defined return type schema\n",
        "@udf(returnType = ArrayType(StructType([\n",
        "    StructField(\"start\", IntegerType(), False),\n",
        "    StructField(\"end\", IntegerType(), False),\n",
        "    StructField(\"context\", StringType(), False)\n",
        "])))\n",
        "def cut_udf(context):\n",
        "  return_list = []\n",
        "  current_string = context\n",
        "  start = 0\n",
        "  end = 4096\n",
        "  while start < len(current_string):\n",
        "    if end >= len(current_string):\n",
        "      return_list.append((start, len(current_string), current_string[start:len(current_string)]))\n",
        "      start += 2048\n",
        "      end += 2048\n",
        "    else:\n",
        "      return_list.append((start, end, current_string[start:end]))\n",
        "      start += 2048\n",
        "      end += 2048 \n",
        "  return return_list"
      ],
      "metadata": {
        "id": "7jhVkvYG0MqA"
      },
      "execution_count": null,
      "outputs": []
    },
    {
      "cell_type": "code",
      "source": [
        "# use the previous function to segment contect into different sequence saved in schema of Array(in column \"cut\")\n",
        "cut_test_df = test_data_df.select(cut_udf(col(\"context\")).alias(\"cut\"), col(\"qas\"), col(\"title\"))\n",
        "cut_test_df.printSchema()"
      ],
      "metadata": {
        "id": "jDZDj1C7Aohs",
        "colab": {
          "base_uri": "https://localhost:8080/"
        },
        "outputId": "2a7dff3e-d3cc-44ad-87cf-577b5307676c"
      },
      "execution_count": null,
      "outputs": [
        {
          "output_type": "stream",
          "name": "stdout",
          "text": [
            "root\n",
            " |-- cut: array (nullable = true)\n",
            " |    |-- element: struct (containsNull = true)\n",
            " |    |    |-- start: integer (nullable = false)\n",
            " |    |    |-- end: integer (nullable = false)\n",
            " |    |    |-- context: string (nullable = false)\n",
            " |-- qas: struct (nullable = true)\n",
            " |    |-- answers: array (nullable = true)\n",
            " |    |    |-- element: struct (containsNull = true)\n",
            " |    |    |    |-- answer_start: long (nullable = true)\n",
            " |    |    |    |-- text: string (nullable = true)\n",
            " |    |-- id: string (nullable = true)\n",
            " |    |-- is_impossible: boolean (nullable = true)\n",
            " |    |-- question: string (nullable = true)\n",
            " |-- title: string (nullable = true)\n",
            "\n"
          ]
        }
      ]
    },
    {
      "cell_type": "code",
      "source": [
        "cut_test_df.show(5)"
      ],
      "metadata": {
        "colab": {
          "base_uri": "https://localhost:8080/"
        },
        "id": "-WkCZPUpA0KC",
        "outputId": "03ff5708-fbaa-4d54-8f71-32bb95daa989"
      },
      "execution_count": null,
      "outputs": [
        {
          "output_type": "stream",
          "name": "stdout",
          "text": [
            "+--------------------+--------------------+--------------------+\n",
            "|                 cut|                 qas|               title|\n",
            "+--------------------+--------------------+--------------------+\n",
            "|[{0, 4096, Exhibi...|{[{14, SUPPLY CON...|LohaCompanyltd_20...|\n",
            "|[{0, 4096, Exhibi...|{[{143, The selle...|LohaCompanyltd_20...|\n",
            "|[{0, 4096, Exhibi...|{[], LohaCompanyl...|LohaCompanyltd_20...|\n",
            "|[{0, 4096, Exhibi...|{[], LohaCompanyl...|LohaCompanyltd_20...|\n",
            "|[{0, 4096, Exhibi...|{[{10985, The Con...|LohaCompanyltd_20...|\n",
            "+--------------------+--------------------+--------------------+\n",
            "only showing top 5 rows\n",
            "\n"
          ]
        }
      ]
    },
    {
      "cell_type": "code",
      "source": [
        "# Explode \"cut\" column to save attribute in the explode column(cut and qas) as column\n",
        "cut_test_df = cut_test_df.select(explode(\"cut\").alias(\"context\"), col(\"qas\"), col(\"title\"))\n",
        "cut_test_df = cut_test_df.select(col(\"context.start\").alias(\"start\"), col(\"context.end\").alias(\"end\"), col(\"context.context\").alias(\"sequence\"), col(\"qas.id\"), col(\"qas.question\"), col(\"qas.is_impossible\"), col(\"qas.answers\"), col(\"title\"))"
      ],
      "metadata": {
        "id": "1NKDgw8aBi0N"
      },
      "execution_count": null,
      "outputs": []
    },
    {
      "cell_type": "code",
      "source": [
        "cut_test_df.show(4)"
      ],
      "metadata": {
        "colab": {
          "base_uri": "https://localhost:8080/"
        },
        "id": "BHz7i7Y5CtII",
        "outputId": "36c6883e-7330-4234-c7e7-6b2105dfaaaf"
      },
      "execution_count": null,
      "outputs": [
        {
          "output_type": "stream",
          "name": "stdout",
          "text": [
            "+-----+-----+--------------------+--------------------+--------------------+-------------+--------------------+--------------------+\n",
            "|start|  end|            sequence|                  id|            question|is_impossible|             answers|               title|\n",
            "+-----+-----+--------------------+--------------------+--------------------+-------------+--------------------+--------------------+\n",
            "|    0| 4096|Exhibit 10.16 SUP...|LohaCompanyltd_20...|Highlight the par...|        false|[{14, SUPPLY CONT...|LohaCompanyltd_20...|\n",
            "| 2048| 6144| F-1, 12/9/2019\\n...|LohaCompanyltd_20...|Highlight the par...|        false|[{14, SUPPLY CONT...|LohaCompanyltd_20...|\n",
            "| 4096| 8192|r the goods in ac...|LohaCompanyltd_20...|Highlight the par...|        false|[{14, SUPPLY CONT...|LohaCompanyltd_20...|\n",
            "| 6144|10240|alue and date of ...|LohaCompanyltd_20...|Highlight the par...|        false|[{14, SUPPLY CONT...|LohaCompanyltd_20...|\n",
            "+-----+-----+--------------------+--------------------+--------------------+-------------+--------------------+--------------------+\n",
            "only showing top 4 rows\n",
            "\n"
          ]
        }
      ]
    },
    {
      "cell_type": "code",
      "source": [
        "# Use explode_answers to explode \"answers\" while keep empty answer\n",
        "cut_test_df = cut_test_df.select(explode_outer(\"answers\").alias(\"answer\"), col(\"answer.answer_start\"), col(\"answer.text\"), col(\"id\"), col(\"question\"), col(\"is_impossible\"), col(\"start\"), col(\"end\"), col(\"sequence\"), col(\"title\")).drop(\"answer\")"
      ],
      "metadata": {
        "id": "3wZ0TNUJDZ6D"
      },
      "execution_count": null,
      "outputs": []
    },
    {
      "cell_type": "code",
      "source": [
        "cut_test_df.show(4)"
      ],
      "metadata": {
        "colab": {
          "base_uri": "https://localhost:8080/"
        },
        "id": "kWX6_mmBE8gC",
        "outputId": "38b3ef7f-75b7-427c-ed6c-c16a95945a2d"
      },
      "execution_count": null,
      "outputs": [
        {
          "output_type": "stream",
          "name": "stdout",
          "text": [
            "+------------+---------------+--------------------+--------------------+-------------+-----+-----+--------------------+--------------------+\n",
            "|answer_start|           text|                  id|            question|is_impossible|start|  end|            sequence|               title|\n",
            "+------------+---------------+--------------------+--------------------+-------------+-----+-----+--------------------+--------------------+\n",
            "|          14|SUPPLY CONTRACT|LohaCompanyltd_20...|Highlight the par...|        false|    0| 4096|Exhibit 10.16 SUP...|LohaCompanyltd_20...|\n",
            "|          14|SUPPLY CONTRACT|LohaCompanyltd_20...|Highlight the par...|        false| 2048| 6144| F-1, 12/9/2019\\n...|LohaCompanyltd_20...|\n",
            "|          14|SUPPLY CONTRACT|LohaCompanyltd_20...|Highlight the par...|        false| 4096| 8192|r the goods in ac...|LohaCompanyltd_20...|\n",
            "|          14|SUPPLY CONTRACT|LohaCompanyltd_20...|Highlight the par...|        false| 6144|10240|alue and date of ...|LohaCompanyltd_20...|\n",
            "+------------+---------------+--------------------+--------------------+-------------+-----+-----+--------------------+--------------------+\n",
            "only showing top 4 rows\n",
            "\n"
          ]
        }
      ]
    },
    {
      "cell_type": "code",
      "source": [
        "cut_test_df.printSchema()"
      ],
      "metadata": {
        "colab": {
          "base_uri": "https://localhost:8080/"
        },
        "id": "gP9CpIzKGUwc",
        "outputId": "15f642d2-90a1-4c84-df2c-16fa4c4dec7f"
      },
      "execution_count": null,
      "outputs": [
        {
          "output_type": "stream",
          "name": "stdout",
          "text": [
            "root\n",
            " |-- answer_start: long (nullable = true)\n",
            " |-- text: string (nullable = true)\n",
            " |-- id: string (nullable = true)\n",
            " |-- question: string (nullable = true)\n",
            " |-- is_impossible: boolean (nullable = true)\n",
            " |-- start: integer (nullable = true)\n",
            " |-- end: integer (nullable = true)\n",
            " |-- sequence: string (nullable = true)\n",
            " |-- title: string (nullable = true)\n",
            "\n"
          ]
        }
      ]
    },
    {
      "cell_type": "code",
      "source": [
        "# This function is used to find the start and end position of an answer text in the segmented sequence\n",
        "# Result is saved in a defined schema: sestart -> sequence start; seend -> sequence end; setext -> answer text; neg_pos -> is this sample positive or possible negative or impossible negative\n",
        "@udf(returnType = StructType([\n",
        "    StructField(\"sestart\", IntegerType(), False),\n",
        "    StructField(\"seend\", IntegerType(), False),\n",
        "    StructField(\"setext\", StringType(), True),\n",
        "    StructField(\"neg_pos\", StringType(), True)\n",
        "]))\n",
        "def calculate_udf(answer_start, text, start, end, is_impossible):\n",
        "  if is_impossible:\n",
        "    return (0, 0, text, \"impossible_negative\")\n",
        "  if text == None:\n",
        "    return (0, 0, text, \"possible_negative\")\n",
        "  answer_end = answer_start + len(text)\n",
        "  if answer_end <= start or answer_start >= end:\n",
        "    return (0, 0, text, \"possible_negative\")\n",
        "  elif answer_end >= start and answer_end < end and answer_start <= start:\n",
        "    return (0, answer_end - start, text, \"positive\")\n",
        "  elif answer_start >= start and answer_end <= end:\n",
        "    return (answer_start - start, answer_end - start, text, \"positive\")\n",
        "  elif answer_start < start and answer_end > end:\n",
        "    return (0, end - start, text, \"positive\")\n",
        "  elif answer_start > start and answer_start <= end and answer_end > end:\n",
        "    return (answer_start - start, end - start, text, \"positive\")"
      ],
      "metadata": {
        "id": "tSVFtZwrFtHo"
      },
      "execution_count": null,
      "outputs": []
    },
    {
      "cell_type": "code",
      "source": [
        "# Use the defined function above to calculate the start position, end position, and imposs_neg/poss_neg/possitive\n",
        "# Then keep all the necessary column in one layer\n",
        "# The \"all_sample_df\" is the result of step 1 of this assignment. It saves all data of all samples.\n",
        "calculate_position_df = cut_test_df.select(calculate_udf(col(\"answer_start\"), col(\"text\"), col(\"start\"), col(\"end\"), col(\"is_impossible\")).alias(\"sample\"), col(\"id\"), col(\"question\"), col(\"is_impossible\"), col(\"sequence\"), col(\"title\"))\n",
        "all_sample_df = calculate_position_df.select(col(\"sample.sestart\").alias(\"answer_start\"), col(\"sample.seend\").alias(\"answer_end\"), col(\"sample.setext\").alias(\"answer_text\"), col(\"sample.neg_pos\").alias(\"answer_neg_pos\"), col(\"id\"), col(\"question\"), col(\"is_impossible\"), col(\"sequence\"), col(\"title\"))\n",
        "all_sample_df.printSchema()"
      ],
      "metadata": {
        "id": "4kN7awzeFv8o",
        "colab": {
          "base_uri": "https://localhost:8080/"
        },
        "outputId": "394110d6-a4cc-4021-a686-09a66a34f958"
      },
      "execution_count": null,
      "outputs": [
        {
          "output_type": "stream",
          "name": "stdout",
          "text": [
            "root\n",
            " |-- answer_start: integer (nullable = true)\n",
            " |-- answer_end: integer (nullable = true)\n",
            " |-- answer_text: string (nullable = true)\n",
            " |-- answer_neg_pos: string (nullable = true)\n",
            " |-- id: string (nullable = true)\n",
            " |-- question: string (nullable = true)\n",
            " |-- is_impossible: boolean (nullable = true)\n",
            " |-- sequence: string (nullable = true)\n",
            " |-- title: string (nullable = true)\n",
            "\n"
          ]
        }
      ]
    },
    {
      "cell_type": "code",
      "source": [
        "all_sample_df.show(4)"
      ],
      "metadata": {
        "colab": {
          "base_uri": "https://localhost:8080/"
        },
        "id": "r82_m79ZhAxl",
        "outputId": "d4323129-6472-4042-9eda-b3273156cb4e"
      },
      "execution_count": null,
      "outputs": [
        {
          "output_type": "stream",
          "name": "stdout",
          "text": [
            "+------------+----------+---------------+-----------------+--------------------+--------------------+-------------+--------------------+--------------------+\n",
            "|answer_start|answer_end|    answer_text|   answer_neg_pos|                  id|            question|is_impossible|            sequence|               title|\n",
            "+------------+----------+---------------+-----------------+--------------------+--------------------+-------------+--------------------+--------------------+\n",
            "|          14|        29|SUPPLY CONTRACT|         positive|LohaCompanyltd_20...|Highlight the par...|        false|Exhibit 10.16 SUP...|LohaCompanyltd_20...|\n",
            "|           0|         0|SUPPLY CONTRACT|possible_negative|LohaCompanyltd_20...|Highlight the par...|        false| F-1, 12/9/2019\\n...|LohaCompanyltd_20...|\n",
            "|           0|         0|SUPPLY CONTRACT|possible_negative|LohaCompanyltd_20...|Highlight the par...|        false|r the goods in ac...|LohaCompanyltd_20...|\n",
            "|           0|         0|SUPPLY CONTRACT|possible_negative|LohaCompanyltd_20...|Highlight the par...|        false|alue and date of ...|LohaCompanyltd_20...|\n",
            "+------------+----------+---------------+-----------------+--------------------+--------------------+-------------+--------------------+--------------------+\n",
            "only showing top 4 rows\n",
            "\n"
          ]
        }
      ]
    },
    {
      "cell_type": "code",
      "source": [
        "all_sample_df.count()"
      ],
      "metadata": {
        "colab": {
          "base_uri": "https://localhost:8080/"
        },
        "id": "kxlt9GNCj55W",
        "outputId": "664219ed-4e57-4e7a-aa15-f9af2638cc9c"
      },
      "execution_count": null,
      "outputs": [
        {
          "output_type": "execute_result",
          "data": {
            "text/plain": [
              "160042"
            ]
          },
          "metadata": {},
          "execution_count": 18
        }
      ]
    },
    {
      "cell_type": "markdown",
      "source": [
        "## Step2.1 make impossible negative equals avergae(positive) of that question"
      ],
      "metadata": {
        "id": "wS30qMCPbsYJ"
      }
    },
    {
      "cell_type": "code",
      "source": [
        "# Find positive sequence, unique imoissible_negative sequence, unique possible_negative sequence\n",
        "positive_df = all_sample_df.filter(all_sample_df.answer_neg_pos == \"positive\")\n",
        "imoissible_negative_df = all_sample_df.filter(all_sample_df.answer_neg_pos == \"impossible_negative\").join(positive_df, [\"sequence\"], \"leftanti\")"
      ],
      "metadata": {
        "id": "V-hB0uzSb8HD"
      },
      "execution_count": null,
      "outputs": []
    },
    {
      "cell_type": "code",
      "source": [
        "# Find positive sample number of each question and question numbers the devide them get the average value\n",
        "average_pos = positive_df.groupby(\"question\").count().withColumnRenamed(\"count\", \"num_pos\").join(positive_df.groupby(\"question\", \"title\").count().groupBy(\"question\").count(), \"question\").select(col(\"question\"), round(col(\"num_pos\") / col(\"count\"), 0).alias(\"average\"))\n",
        "#average_pos.show(4)"
      ],
      "metadata": {
        "id": "FlR89yiFeQ0V"
      },
      "execution_count": null,
      "outputs": []
    },
    {
      "cell_type": "code",
      "source": [
        "# use left join to give the corresponding average number of positive sample of question to every selected impossible negative sample\n",
        "imoissible_negative_df = imoissible_negative_df.join(average_pos, [\"question\"], \"left\")\n",
        "imoissible_negative_df.count()"
      ],
      "metadata": {
        "id": "9cA8FrzRt9nQ",
        "colab": {
          "base_uri": "https://localhost:8080/"
        },
        "outputId": "e8c08720-1708-443a-a001-b7b89fa0ec5d"
      },
      "execution_count": null,
      "outputs": [
        {
          "output_type": "execute_result",
          "data": {
            "text/plain": [
              "23402"
            ]
          },
          "metadata": {},
          "execution_count": 21
        }
      ]
    },
    {
      "cell_type": "code",
      "source": [
        "imoissible_negative_df.show(4)"
      ],
      "metadata": {
        "colab": {
          "base_uri": "https://localhost:8080/"
        },
        "id": "1qa3KxQn3Bcl",
        "outputId": "62d401d2-99bd-4aec-adfa-dfe2291875cb"
      },
      "execution_count": null,
      "outputs": [
        {
          "output_type": "stream",
          "name": "stdout",
          "text": [
            "+--------------------+--------------------+------------+----------+-----------+-------------------+--------------------+-------------+--------------------+-------+\n",
            "|            question|            sequence|answer_start|answer_end|answer_text|     answer_neg_pos|                  id|is_impossible|               title|average|\n",
            "+--------------------+--------------------+------------+----------+-----------+-------------------+--------------------+-------------+--------------------+-------+\n",
            "|Highlight the par...|his Agreement and...|           0|         0|       null|impossible_negative|CENTRACKINTERNATI...|         true|CENTRACKINTERNATI...|    3.0|\n",
            "|Highlight the par...| aliases;        ...|           0|         0|       null|impossible_negative|CENTRACKINTERNATI...|         true|CENTRACKINTERNATI...|    3.0|\n",
            "|Highlight the par...|er. If the proble...|           0|         0|       null|impossible_negative|CENTRACKINTERNATI...|         true|CENTRACKINTERNATI...|    3.0|\n",
            "|Highlight the par...|his Agreement and...|           0|         0|       null|impossible_negative|CENTRACKINTERNATI...|         true|CENTRACKINTERNATI...|    6.0|\n",
            "+--------------------+--------------------+------------+----------+-----------+-------------------+--------------------+-------------+--------------------+-------+\n",
            "only showing top 4 rows\n",
            "\n"
          ]
        }
      ]
    },
    {
      "cell_type": "markdown",
      "source": [
        "Delete negative sequence sample number large than average"
      ],
      "metadata": {
        "id": "OVjBHf6o3JAG"
      }
    },
    {
      "cell_type": "code",
      "source": [
        "# This Window is used to number samples with same question\n",
        "# Then sample with number larger than average number of positive sample of that question will be dropped\n",
        "\n",
        "spec = Window.partitionBy(\"question\").orderBy(\"question\")\n",
        "raw_imnegative_result = imoissible_negative_df.withColumn(\"num\", row_number().over(spec)).filter(col(\"num\") <= col(\"average\"))\n",
        "\n",
        "# \"window to add index number\" reference: https://blog.csdn.net/weixin_43668299/article/details/103269810?spm=1001.2101.3001.6650.1&utm_medium=distribute.pc_relevant.none-task-blog-2%7Edefault%7ECTRLIST%7Edefault-1-103269810-blog-89191332.pc_relevant_default&depth_1-utm_source=distribute.pc_relevant.none-task-blog-2%7Edefault%7ECTRLIST%7Edefault-1-103269810-blog-89191332.pc_relevant_default&utm_relevant_index=2\n",
        "# \"filter two column compare\" reference: https://stackoverflow.com/questions/66793720/pyspark-filtering-rows-on-multiple-columns"
      ],
      "metadata": {
        "id": "Inri-5V53IvA"
      },
      "execution_count": null,
      "outputs": []
    },
    {
      "cell_type": "code",
      "source": [
        "raw_imnegative_result.show(5)"
      ],
      "metadata": {
        "id": "djibuVucncOW",
        "colab": {
          "base_uri": "https://localhost:8080/"
        },
        "outputId": "b70b92bf-f2bc-47bf-e6fd-f83293888030"
      },
      "execution_count": null,
      "outputs": [
        {
          "output_type": "stream",
          "name": "stdout",
          "text": [
            "+--------------------+--------------------+------------+----------+-----------+-------------------+--------------------+-------------+--------------------+-------+---+\n",
            "|            question|            sequence|answer_start|answer_end|answer_text|     answer_neg_pos|                  id|is_impossible|               title|average|num|\n",
            "+--------------------+--------------------+------------+----------+-----------+-------------------+--------------------+-------------+--------------------+-------+---+\n",
            "|Highlight the par...|his Agreement and...|           0|         0|       null|impossible_negative|CENTRACKINTERNATI...|         true|CENTRACKINTERNATI...|    5.0|  1|\n",
            "|Highlight the par...| aliases;        ...|           0|         0|       null|impossible_negative|CENTRACKINTERNATI...|         true|CENTRACKINTERNATI...|    5.0|  2|\n",
            "|Highlight the par...|er. If the proble...|           0|         0|       null|impossible_negative|CENTRACKINTERNATI...|         true|CENTRACKINTERNATI...|    5.0|  3|\n",
            "|Highlight the par...|EKR and the lease...|           0|         0|       null|impossible_negative|PACIRA PHARMACEUT...|         true|PACIRA PHARMACEUT...|    5.0|  4|\n",
            "|Highlight the par...|duct in a country...|           0|         0|       null|impossible_negative|PACIRA PHARMACEUT...|         true|PACIRA PHARMACEUT...|    5.0|  5|\n",
            "+--------------------+--------------------+------------+----------+-----------+-------------------+--------------------+-------------+--------------------+-------+---+\n",
            "only showing top 5 rows\n",
            "\n"
          ]
        }
      ]
    },
    {
      "cell_type": "code",
      "source": [
        "raw_imnegative_result.count()"
      ],
      "metadata": {
        "id": "Z651DSC28IEX",
        "colab": {
          "base_uri": "https://localhost:8080/"
        },
        "outputId": "ef326f38-30c5-4c8f-daa2-2bfb3fd2b145"
      },
      "execution_count": null,
      "outputs": [
        {
          "output_type": "execute_result",
          "data": {
            "text/plain": [
              "175"
            ]
          },
          "metadata": {},
          "execution_count": 25
        }
      ]
    },
    {
      "cell_type": "markdown",
      "source": [
        "## Step2.2 make possible negative equals positive sample number of that question"
      ],
      "metadata": {
        "id": "xjjpr9pCHWKK"
      }
    },
    {
      "cell_type": "code",
      "source": [
        "# Find all possible negative sequence and the leftanti join with \"positive sequence\", \"result impossible negative sequence\" to remove the duplicated sequence in possible negative sequence\n",
        "reduced_possible_negative_df = all_sample_df.filter(all_sample_df.answer_neg_pos == \"possible_negative\").join(positive_df, [\"sequence\"], \"leftanti\").join(raw_imnegative_result, [\"sequence\"], \"leftanti\")"
      ],
      "metadata": {
        "id": "R_s1R69z93Sq"
      },
      "execution_count": null,
      "outputs": []
    },
    {
      "cell_type": "code",
      "source": [
        "# Find the number of positive sample of each question and join the number with reduced_possible_negative by \"id\"\n",
        "combine_posneg = reduced_possible_negative_df.join(positive_df.groupby(\"id\").count(), [\"id\"], \"left\")\n",
        "\n",
        "# This Window is used to number samples with same id\n",
        "# Then sample with number larger than sum number of positive sample of that question will be dropped\n",
        "spec2 = Window.partitionBy(\"id\").orderBy(\"id\")\n",
        "raw_posnegative_result = combine_posneg.withColumn(\"num\", row_number().over(spec2)).filter(col(\"num\") <= col(\"count\"))\n",
        "raw_posnegative_result.count()\n",
        "\n",
        "# \"window to add index number\" reference: https://blog.csdn.net/weixin_43668299/article/details/103269810?spm=1001.2101.3001.6650.1&utm_medium=distribute.pc_relevant.none-task-blog-2%7Edefault%7ECTRLIST%7Edefault-1-103269810-blog-89191332.pc_relevant_default&depth_1-utm_source=distribute.pc_relevant.none-task-blog-2%7Edefault%7ECTRLIST%7Edefault-1-103269810-blog-89191332.pc_relevant_default&utm_relevant_index=2\n",
        "# \"filter two column compare\" reference: https://stackoverflow.com/questions/66793720/pyspark-filtering-rows-on-multiple-columns"
      ],
      "metadata": {
        "colab": {
          "base_uri": "https://localhost:8080/"
        },
        "id": "4xipsd7IAy-q",
        "outputId": "d8db27c2-009b-42db-b1d3-73325fdc2180"
      },
      "execution_count": null,
      "outputs": [
        {
          "output_type": "execute_result",
          "data": {
            "text/plain": [
              "4109"
            ]
          },
          "metadata": {},
          "execution_count": 27
        }
      ]
    },
    {
      "cell_type": "code",
      "source": [
        "raw_posnegative_result.show(5)"
      ],
      "metadata": {
        "id": "NDlwh2R3MKn0",
        "colab": {
          "base_uri": "https://localhost:8080/"
        },
        "outputId": "fc1c751d-569b-4425-ea18-529f54c59f55"
      },
      "execution_count": null,
      "outputs": [
        {
          "output_type": "stream",
          "name": "stdout",
          "text": [
            "+--------------------+--------------------+------------+----------+--------------------+-----------------+--------------------+-------------+--------------------+-----+---+\n",
            "|                  id|            sequence|answer_start|answer_end|         answer_text|   answer_neg_pos|            question|is_impossible|               title|count|num|\n",
            "+--------------------+--------------------+------------+----------+--------------------+-----------------+--------------------+-------------+--------------------+-----+---+\n",
            "|ACCELERATEDTECHNO...|he Products\\n\\nPi...|           0|         0|The Joint Venture...|possible_negative|Highlight the par...|        false|ACCELERATEDTECHNO...|    2|  1|\n",
            "|ACCELERATEDTECHNO...|he Products\\n\\nPi...|           0|         0|Division of Incom...|possible_negative|Highlight the par...|        false|ACCELERATEDTECHNO...|    3|  1|\n",
            "|AFSALABANCORPINC_...|                 ...|           0|         0|This Agreement sh...|possible_negative|Highlight the par...|        false|AFSALABANCORPINC_...|    2|  1|\n",
            "|AFSALABANCORPINC_...|   -17-\\n\\npresen...|           0|         0|This Agreement sh...|possible_negative|Highlight the par...|        false|AFSALABANCORPINC_...|    2|  2|\n",
            "|AFSALABANCORPINC_...|                 ...|           0|         0|In the event  the...|possible_negative|Highlight the par...|        false|AFSALABANCORPINC_...|    3|  1|\n",
            "+--------------------+--------------------+------------+----------+--------------------+-----------------+--------------------+-------------+--------------------+-----+---+\n",
            "only showing top 5 rows\n",
            "\n"
          ]
        }
      ]
    },
    {
      "cell_type": "markdown",
      "source": [
        "### Rewrite data of positive, possible_negative, and impossible_negative to sample schema"
      ],
      "metadata": {
        "id": "gkQ8GU1rNG3V"
      }
    },
    {
      "cell_type": "code",
      "source": [
        "final_possible_negative_df = raw_posnegative_result.select(col(\"sequence\").alias(\"source\"), col(\"question\"), col(\"answer_start\"), col(\"answer_end\"))\n",
        "final_possible_negative_df.printSchema()"
      ],
      "metadata": {
        "id": "4FZwP3gTNvpo",
        "colab": {
          "base_uri": "https://localhost:8080/"
        },
        "outputId": "c1e4197d-51fe-4d1b-83e9-2e398ca35a98"
      },
      "execution_count": null,
      "outputs": [
        {
          "output_type": "stream",
          "name": "stdout",
          "text": [
            "root\n",
            " |-- source: string (nullable = true)\n",
            " |-- question: string (nullable = true)\n",
            " |-- answer_start: integer (nullable = true)\n",
            " |-- answer_end: integer (nullable = true)\n",
            "\n"
          ]
        }
      ]
    },
    {
      "cell_type": "code",
      "source": [
        "final_impossible_negative_df = raw_imnegative_result.select(col(\"sequence\").alias(\"source\"), col(\"question\"), col(\"answer_start\"), col(\"answer_end\"))\n",
        "final_impossible_negative_df.printSchema()"
      ],
      "metadata": {
        "id": "L389f1oHOQCV",
        "colab": {
          "base_uri": "https://localhost:8080/"
        },
        "outputId": "b721110f-71d0-4cee-9905-b02dfbb1f82c"
      },
      "execution_count": null,
      "outputs": [
        {
          "output_type": "stream",
          "name": "stdout",
          "text": [
            "root\n",
            " |-- source: string (nullable = true)\n",
            " |-- question: string (nullable = true)\n",
            " |-- answer_start: integer (nullable = true)\n",
            " |-- answer_end: integer (nullable = true)\n",
            "\n"
          ]
        }
      ]
    },
    {
      "cell_type": "code",
      "source": [
        "final_positive_df = positive_df.select(col(\"sequence\").alias(\"source\"), col(\"question\"), col(\"answer_start\"), col(\"answer_end\"))\n",
        "final_positive_df.printSchema()"
      ],
      "metadata": {
        "id": "ZZ2F4EO1Pe_D",
        "colab": {
          "base_uri": "https://localhost:8080/"
        },
        "outputId": "0d5bd4ff-333a-4837-ac11-e0b771dc61ad"
      },
      "execution_count": null,
      "outputs": [
        {
          "output_type": "stream",
          "name": "stdout",
          "text": [
            "root\n",
            " |-- source: string (nullable = true)\n",
            " |-- question: string (nullable = true)\n",
            " |-- answer_start: integer (nullable = true)\n",
            " |-- answer_end: integer (nullable = true)\n",
            "\n"
          ]
        }
      ]
    },
    {
      "cell_type": "markdown",
      "source": [
        "### Union positive, possible negative, and impossible negative together to get the final result"
      ],
      "metadata": {
        "id": "pieCeIKcNhRb"
      }
    },
    {
      "cell_type": "code",
      "source": [
        "final_result = final_possible_negative_df.union(final_impossible_negative_df).union(final_positive_df)"
      ],
      "metadata": {
        "id": "XT-JeFQgTT9I"
      },
      "execution_count": null,
      "outputs": []
    },
    {
      "cell_type": "code",
      "source": [
        "final_result.count()"
      ],
      "metadata": {
        "colab": {
          "base_uri": "https://localhost:8080/"
        },
        "id": "V1w9NKaUTmrP",
        "outputId": "625f526c-a979-4004-8858-7a871174cd59"
      },
      "execution_count": null,
      "outputs": [
        {
          "output_type": "execute_result",
          "data": {
            "text/plain": [
              "9170"
            ]
          },
          "metadata": {},
          "execution_count": 33
        }
      ]
    },
    {
      "cell_type": "code",
      "source": [
        "final_result.show(10)"
      ],
      "metadata": {
        "colab": {
          "base_uri": "https://localhost:8080/"
        },
        "id": "txbC2OHpTuiO",
        "outputId": "aa86ce5c-6d77-43c0-c2d7-83fa444b5d3b"
      },
      "execution_count": null,
      "outputs": [
        {
          "output_type": "stream",
          "name": "stdout",
          "text": [
            "+--------------------+--------------------+------------+----------+\n",
            "|              source|            question|answer_start|answer_end|\n",
            "+--------------------+--------------------+------------+----------+\n",
            "| by other informa...|Highlight the par...|           0|         0|\n",
            "| by other informa...|Highlight the par...|           0|         0|\n",
            "| by other informa...|Highlight the par...|           0|         0|\n",
            "|Art Of Taste     ...|Highlight the par...|           0|         0|\n",
            "|Art Of Taste     ...|Highlight the par...|           0|         0|\n",
            "|Art Of Taste     ...|Highlight the par...|           0|         0|\n",
            "|/or obligations u...|Highlight the par...|           0|         0|\n",
            "|r. The Parties sh...|Highlight the par...|           0|         0|\n",
            "| Tax ID#63-095254...|Highlight the par...|           0|         0|\n",
            "|ncluding any cour...|Highlight the par...|           0|         0|\n",
            "+--------------------+--------------------+------------+----------+\n",
            "only showing top 10 rows\n",
            "\n"
          ]
        }
      ]
    },
    {
      "cell_type": "markdown",
      "source": [
        "## Write the final result to file."
      ],
      "metadata": {
        "id": "vXQjoOV412qr"
      }
    },
    {
      "cell_type": "code",
      "source": [
        "out = \",\\n\".join(final_result.coalesce(1).toJSON().collect())\n",
        "f = open(\"//content/drive/MyDrive/as2_data/out.json\", \"w\")\n",
        "f.write(\"[ \" + out + \" ]\")"
      ],
      "metadata": {
        "colab": {
          "base_uri": "https://localhost:8080/"
        },
        "id": "62fRGNEIg55M",
        "outputId": "59d52a93-2b53-4531-e79f-0c8b8ba57e46"
      },
      "execution_count": null,
      "outputs": [
        {
          "output_type": "execute_result",
          "data": {
            "text/plain": [
              "37653690"
            ]
          },
          "metadata": {},
          "execution_count": 35
        }
      ]
    },
    {
      "cell_type": "code",
      "source": [
        "spark.stop()"
      ],
      "metadata": {
        "id": "oZIoQUqHhm-D"
      },
      "execution_count": null,
      "outputs": []
    }
  ],
  "metadata": {
    "colab": {
      "collapsed_sections": [],
      "name": "Assignment2_08_RE_ldin7836_Lihao_Ding_(3) (1).ipynb",
      "provenance": []
    },
    "kernelspec": {
      "display_name": "Python 3",
      "language": "python",
      "name": "python3"
    }
  },
  "nbformat": 4,
  "nbformat_minor": 0
}